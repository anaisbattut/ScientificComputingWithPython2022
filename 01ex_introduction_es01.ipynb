{
 "cells": [
  {
   "cell_type": "markdown",
   "id": "1082d342",
   "metadata": {},
   "source": [
    "Exercice 01. Date : 14/10/2022.\n",
    "\n",
    "Anaïs Battut"
   ]
  },
  {
   "cell_type": "markdown",
   "id": "40d01920",
   "metadata": {},
   "source": [
    "1\\. **The HelloWorld replacement**\n",
    "\n",
    "a)"
   ]
  },
  {
   "cell_type": "code",
   "execution_count": 2,
   "id": "7b359690",
   "metadata": {
    "scrolled": false
   },
   "outputs": [
    {
     "name": "stdout",
     "output_type": "stream",
     "text": [
      "1\n",
      "2\n",
      "Hello\n",
      "4\n",
      "World\n",
      "Hello\n",
      "7\n",
      "8\n",
      "Hello\n",
      "World\n",
      "11\n",
      "Hello\n",
      "13\n",
      "14\n",
      "HelloWorld\n",
      "16\n",
      "17\n",
      "Hello\n",
      "19\n",
      "World\n",
      "Hello\n",
      "22\n",
      "23\n",
      "Hello\n",
      "World\n",
      "26\n",
      "Hello\n",
      "28\n",
      "29\n",
      "HelloWorld\n",
      "31\n",
      "32\n",
      "Hello\n",
      "34\n",
      "World\n",
      "Hello\n",
      "37\n",
      "38\n",
      "Hello\n",
      "World\n",
      "41\n",
      "Hello\n",
      "43\n",
      "44\n",
      "HelloWorld\n",
      "46\n",
      "47\n",
      "Hello\n",
      "49\n",
      "World\n",
      "Hello\n",
      "52\n",
      "53\n",
      "Hello\n",
      "World\n",
      "56\n",
      "Hello\n",
      "58\n",
      "59\n",
      "HelloWorld\n",
      "61\n",
      "62\n",
      "Hello\n",
      "64\n",
      "World\n",
      "Hello\n",
      "67\n",
      "68\n",
      "Hello\n",
      "World\n",
      "71\n",
      "Hello\n",
      "73\n",
      "74\n",
      "HelloWorld\n",
      "76\n",
      "77\n",
      "Hello\n",
      "79\n",
      "World\n",
      "Hello\n",
      "82\n",
      "83\n",
      "Hello\n",
      "World\n",
      "86\n",
      "Hello\n",
      "88\n",
      "89\n",
      "HelloWorld\n",
      "91\n",
      "92\n",
      "Hello\n",
      "94\n",
      "World\n",
      "Hello\n",
      "97\n",
      "98\n",
      "Hello\n",
      "World\n",
      "(1, 2, 'Python', 4, 'Works', 'Python', 7, 8, 'Python', 'Works', 11, 'Python', 13, 14, 15, 16, 17, 'Python', 19, 'Works', 'Python', 22, 23, 'Python', 'Works', 26, 'Python', 28, 29, 30, 31, 32, 'Python', 34, 'Works', 'Python', 37, 38, 'Python', 'Works', 41, 'Python', 43, 44, 45, 46, 47, 'Python', 49, 'Works', 'Python', 52, 53, 'Python', 'Works', 56, 'Python', 58, 59, 60, 61, 62, 'Python', 64, 'Works', 'Python', 67, 68, 'Python', 'Works', 71, 'Python', 73, 74, 75, 76, 77, 'Python', 79, 'Works', 'Python', 82, 83, 'Python', 'Works', 86, 'Python', 88, 89, 90, 91, 92, 'Python', 94, 'Works', 'Python', 97, 98, 'Python', 'Works')\n"
     ]
    }
   ],
   "source": [
    "\"\"\"\n",
    "First version : creating at the same time the list \"HelloWorld\" and the tuple\n",
    "\"\"\"\n",
    "#Declaration of tuple\n",
    "my_tuple = ()\n",
    "#To modify an item to tuple = convert tuple to list\n",
    "l = list(my_tuple)\n",
    "\n",
    "#For each number in a range of 100 numbers\n",
    "for i in range(1,101,1):\n",
    "    #multiples of three AND five\n",
    "    if (i%3==0 and i%5==0):\n",
    "        print(\"HelloWorld\")\n",
    "        l.append(i)\n",
    "        my_tuple = tuple(l)\n",
    "    #multiples of three\n",
    "    elif i%3==0:\n",
    "        print(\"Hello\")\n",
    "        l.append(\"Python\")\n",
    "        my_tuple = tuple(l)\n",
    "    #multiples of five\n",
    "    elif i%5==0:\n",
    "        print (\"World\")\n",
    "        l.append(\"Works\")\n",
    "        my_tuple = tuple(l)\n",
    "    #if not, just print the number\n",
    "    else:\n",
    "        print(i)\n",
    "        l.append(i)\n",
    "        my_tuple = tuple(l)\n",
    "\n",
    "print(my_tuple)\n"
   ]
  },
  {
   "cell_type": "code",
   "execution_count": 3,
   "id": "aef58950",
   "metadata": {},
   "outputs": [
    {
     "name": "stdout",
     "output_type": "stream",
     "text": [
      "(1, 2, 'Test', 4, 'Works', 'Test', 7, 8, 'Test', 'Works', 11, 'Test', 13, 14, 15, 16, 17, 'Test', 19, 'Works', 'Test', 22, 23, 'Test', 'Works', 26, 'Test', 28, 29, 30, 31, 32, 'Test', 34, 'Works', 'Test', 37, 38, 'Test', 'Works', 41, 'Test', 43, 44, 45, 46, 47, 'Test', 49, 'Works', 'Test', 52, 53, 'Test', 'Works', 56, 'Test', 58, 59, 60, 61, 62, 'Test', 64, 'Works', 'Test', 67, 68, 'Test', 'Works', 71, 'Test', 73, 74, 75, 76, 77, 'Test', 79, 'Works', 'Test', 82, 83, 'Test', 'Works', 86, 'Test', 88, 89, 90, 91, 92, 'Test', 94, 'Works', 'Test', 97, 98, 'Test', 'Works')\n"
     ]
    }
   ],
   "source": [
    "\"\"\"\n",
    "Second version : creating the list \"HelloWorld\" and from this list, \n",
    "\"\"\"\n",
    "\n",
    "#Fonction to create the list \"HelloWorld\"\n",
    "def listHelloWorld(x) :\n",
    "    #declaring a list\n",
    "    list = []\n",
    "    for i in range(1,x+1,1):\n",
    "        #multiples of three AND five\n",
    "        if (i%3==0 and i%5==0):\n",
    "            list.append(\"HelloWorld\")\n",
    "        #multiples of three\n",
    "        elif i%3==0:\n",
    "            list.append(\"Hello\")\n",
    "        #multiples of five\n",
    "        elif i%5==0:\n",
    "            list.append(\"World\")\n",
    "        #if not, just add the number i to the list   \n",
    "        else:  \n",
    "            list.append(i)\n",
    "    return (list)\n",
    "\n",
    "list_hello = listHelloWorld(100)\n",
    "#print(list_hello)\n",
    "\n",
    "\n",
    "my_tuple = ()\n",
    "#To modify an item to tuple = convert tuple to list\n",
    "l = list(my_tuple)\n",
    "\n",
    "#for every item in the list, we substitute depending on the word\n",
    "for i in range(1,len(list_hello),1):\n",
    "    if (list_hello[i] == \"Hello\"):\n",
    "        list_hello[i] = \"Test\"\n",
    "    elif (list_hello[i] == \"World\"):\n",
    "        list_hello[i] = \"Works\"\n",
    "    else:\n",
    "        list_hello[i] = i+1\n",
    "\n",
    "#converting the list_hello to a tuple\n",
    "my_tuple = tuple(list_hello)\n",
    "print(my_tuple)\n",
    "        "
   ]
  },
  {
   "cell_type": "markdown",
   "id": "693bb719",
   "metadata": {},
   "source": [
    "2\\. **The swamp**"
   ]
  },
  {
   "cell_type": "code",
   "execution_count": 77,
   "id": "bed99b21",
   "metadata": {},
   "outputs": [
    {
     "name": "stdout",
     "output_type": "stream",
     "text": [
      "Enter x:\n",
      "hellp\n",
      "Enter y:\n",
      "ddd\n",
      "Swapping...\n",
      "Value of x : ddd and y :  hellp\n"
     ]
    }
   ],
   "source": [
    "def swapping(a,b):\n",
    "    #Python syntac to swaps value\n",
    "    a, b = b, a\n",
    "    print(\"Swapping...\")\n",
    "    print(\"Value of x :\", a, \"and y : \", b)\n",
    " \n",
    "x=input(\"Enter x:\\n\")\n",
    "y=input(\"Enter y:\\n\")\n",
    "swapping(x,y)"
   ]
  },
  {
   "cell_type": "markdown",
   "id": "0f48f048",
   "metadata": {},
   "source": [
    "3\\. **Computing the distance**"
   ]
  },
  {
   "cell_type": "code",
   "execution_count": 83,
   "id": "f6bc3a87",
   "metadata": {},
   "outputs": [
    {
     "data": {
      "text/plain": [
       "5.0"
      ]
     },
     "execution_count": 83,
     "metadata": {},
     "output_type": "execute_result"
    }
   ],
   "source": [
    "import math\n",
    "\n",
    "def computing_distance(u,v):\n",
    "    return math.sqrt( ((u[0]-v[0])**2) + ((u[1]-v[1])**2) )\n",
    "    \n",
    "u = (3,0)\n",
    "v = (0,4)\n",
    "computing_distance(u,v)"
   ]
  },
  {
   "cell_type": "markdown",
   "id": "1abd68f2",
   "metadata": {},
   "source": [
    "4\\. **Counting letters**"
   ]
  },
  {
   "cell_type": "code",
   "execution_count": 88,
   "id": "092cba2c",
   "metadata": {},
   "outputs": [
    {
     "name": "stdout",
     "output_type": "stream",
     "text": [
      "{'w': 4, 'r': 19, 'i': 12, 't': 19, 'e': 20, ' ': 41, 'a': 7, 'p': 8, 'o': 15, 'g': 1, 'm': 8, 'h': 11, 'n': 10, 's': 7, 'u': 7, 'b': 5, 'f': 10, '1': 2, '0': 2, '.': 3, 'l': 12, 'd': 5, 'v': 2, 'c': 1}\n",
      "{'t': 2, 'h': 2, 'e': 3, ' ': 8, 'q': 1, 'u': 2, 'i': 1, 'c': 1, 'k': 1, 'b': 1, 'r': 2, 'o': 4, 'w': 1, 'n': 1, 'f': 1, 'x': 1, 'j': 1, 'm': 1, 'p': 1, 's': 1, 'v': 1, 'l': 1, 'a': 1, 'z': 1, 'y': 1, 'd': 1, 'g': 1}\n"
     ]
    }
   ],
   "source": [
    "s1 = \"Write a program that prints the numbers from 1 to 100. \\\n",
    "But for multiples of three print Hello instead of the number and for the multiples of five print World. \\\n",
    "For numbers which are multiples of both three and five print HelloWorld.\"\n",
    "s2 = \"The quick brown fox jumps over the lazy dog\"\n",
    "\n",
    "def counting_letters(s):\n",
    "    #We create a dictionary with letters as keys and occurences as values\n",
    "    letters = {}\n",
    "    #Ignore differences in capitalization : put everything lower\n",
    "    s = s.lower()\n",
    "    #For each letter\n",
    "    for i in s:\n",
    "        #If it is in the dictionnary, we increment the value \n",
    "        if i in letters:\n",
    "            letters[i]+=1\n",
    "        else:\n",
    "        #else, we add it to the dictionnary with a value of 1\n",
    "            letters[i] = 1\n",
    "    print(letters)\n",
    "\n",
    "counting_letters(s1)\n",
    "counting_letters(s2)"
   ]
  },
  {
   "cell_type": "markdown",
   "id": "01d2561f",
   "metadata": {},
   "source": [
    "5\\. **Isolating the unique**\n"
   ]
  },
  {
   "cell_type": "code",
   "execution_count": 36,
   "id": "e6a3a417",
   "metadata": {},
   "outputs": [
    {
     "name": "stdout",
     "output_type": "stream",
     "text": [
      "[1, 3, 5, 8, 9, 10, 16, 18, 19, 20, 24, 30, 31, 33, 34, 36, 37, 39, 41, 42, 45, 47, 50, 51, 53, 54, 55, 56, 57, 58, 63, 64, 66, 70, 72, 74, 75, 79, 81, 82, 84, 85, 86, 87, 88, 89, 90, 91, 92, 94, 95, 96, 98, 99]\n",
      "Unique numbers : 54\n",
      "{1, 3, 5, 8, 9, 10, 16, 18, 19, 20, 24, 30, 31, 33, 34, 36, 37, 39, 41, 42, 45, 47, 50, 51, 53, 54, 55, 56, 57, 58, 63, 64, 66, 70, 72, 74, 75, 79, 81, 82, 84, 85, 86, 87, 88, 89, 90, 91, 92, 94, 95, 96, 98, 99}\n",
      "Unique numbers : 54\n"
     ]
    }
   ],
   "source": [
    "l = [36, 45, 58, 3, 74, 96, 64, 45, 31, 10, 24, 19, 33, 86, 99, 18, 63, 70, 85,\n",
    " 85, 63, 47, 56, 42, 70, 84, 88, 55, 20, 54, 8, 56, 51, 79, 81, 57, 37, 91,\n",
    " 1, 84, 84, 36, 66, 9, 89, 50, 42, 91, 50, 95, 90, 98, 39, 16, 82, 31, 92, 41,\n",
    " 45, 30, 66, 70, 34, 85, 94, 5, 3, 36, 72, 91, 84, 34, 87, 75, 53, 51, 20, 89, 51, 20]\n",
    "\n",
    "def isolating_unique(l):\n",
    "    #We create a dictionary\n",
    "    numbers = {}\n",
    "    #a list to put every unique numbers\n",
    "    list_count = []\n",
    "    \n",
    "    #For each number in the list\n",
    "    for i in l:\n",
    "        #If the number is already in the dictionnary, we increment the value\n",
    "        if i in numbers:\n",
    "            numbers[i]+=1\n",
    "        else:\n",
    "        #else, we add it to the dictionnary with a value of 1\n",
    "            numbers[i] = 1\n",
    "    \n",
    "    #For each numbers in the dictionnary (each keys)        \n",
    "    for j in numbers:\n",
    "        #We add it to the unique list\n",
    "        list_count.append(j)\n",
    "    print(sorted(list_count))\n",
    "    print(\"Unique numbers :\",len(list_count))\n",
    "        \n",
    "\n",
    "isolating_unique(l)\n",
    "\n",
    "def isolating_unique_python(l):\n",
    "    #Same fonction but with the Python data structures\n",
    "    unique = set(l)\n",
    "    print(unique)\n",
    "    print(\"Unique numbers :\",len(unique))\n",
    "    \n",
    "isolating_unique_python(l)"
   ]
  },
  {
   "cell_type": "markdown",
   "id": "86a064ac",
   "metadata": {},
   "source": [
    "6\\. **Casting**\n"
   ]
  },
  {
   "cell_type": "code",
   "execution_count": 1,
   "id": "1ffb2db5",
   "metadata": {},
   "outputs": [
    {
     "name": "stdout",
     "output_type": "stream",
     "text": [
      "sum is not possible\n",
      "33\n",
      "helloworld\n",
      "7.8\n",
      "Enter a variable :a\n"
     ]
    },
    {
     "ename": "NameError",
     "evalue": "name 'type_' is not defined",
     "output_type": "error",
     "traceback": [
      "\u001b[0;31m---------------------------------------------------------------------------\u001b[0m",
      "\u001b[0;31mNameError\u001b[0m                                 Traceback (most recent call last)",
      "Cell \u001b[0;32mIn [1], line 15\u001b[0m\n\u001b[1;32m     13\u001b[0m test \u001b[38;5;241m=\u001b[39m \u001b[38;5;28minput\u001b[39m(\u001b[38;5;124m\"\u001b[39m\u001b[38;5;124mEnter a variable :\u001b[39m\u001b[38;5;124m\"\u001b[39m)    \n\u001b[1;32m     14\u001b[0m \u001b[38;5;28;01mtry\u001b[39;00m:\n\u001b[0;32m---> 15\u001b[0m     ret \u001b[38;5;241m=\u001b[39m \u001b[43mtype_\u001b[49m(test)\n\u001b[1;32m     16\u001b[0m \u001b[38;5;28;01mexcept\u001b[39;00m \u001b[38;5;167;01mValueError\u001b[39;00m:\n\u001b[1;32m     17\u001b[0m     \u001b[38;5;28mprint\u001b[39m(\u001b[38;5;124m\"\u001b[39m\u001b[38;5;124mInvalid type, enter again.\u001b[39m\u001b[38;5;124m\"\u001b[39m)\n",
      "\u001b[0;31mNameError\u001b[0m: name 'type_' is not defined"
     ]
    }
   ],
   "source": [
    "def casting(x,y):\n",
    "    try:\n",
    "        sum = x + y\n",
    "        print(sum)\n",
    "    except:\n",
    "        print('sum is not possible')\n",
    "        \n",
    "casting(3,'2')\n",
    "casting(10,23)\n",
    "casting('hello', 'world')\n",
    "casting(3.2,4.6)\n",
    "\n",
    "test = input(\"Enter a variable :\")    \n",
    "try:\n",
    "    ret = type_(test)\n",
    "except ValueError:\n",
    "    print(\"Invalid type, enter again.\")                "
   ]
  },
  {
   "cell_type": "markdown",
   "id": "3a3f0345",
   "metadata": {},
   "source": [
    "7\\. **Cubes**"
   ]
  },
  {
   "cell_type": "code",
   "execution_count": 22,
   "id": "faf4583d",
   "metadata": {},
   "outputs": [
    {
     "name": "stdout",
     "output_type": "stream",
     "text": [
      "[0, 1, 8, 27, 64, 125, 216, 343, 512, 729, 1000]\n",
      "[0, 1, 8, 27, 64, 125, 216, 343, 512, 729, 1000]\n"
     ]
    }
   ],
   "source": [
    "def cubes_for():\n",
    "    #List of the cubes\n",
    "    list_cubes = []\n",
    "    #For each numbers from 0 to 10\n",
    "    for i in range(0,11,1):\n",
    "        #cube the number and add it to the list\n",
    "        list_cubes.append(i**3)\n",
    "    return list_cubes\n",
    "cubesFor = cubes_for()\n",
    "print(cubesFor)\n",
    "\n",
    "def cubes_list_comprehension():\n",
    "    #list of the cubes\n",
    "    list = range(0,11,1)\n",
    "    return [i**3 for i in list]\n",
    "cubesListComprehension = cubes_list_comprehension()\n",
    "print(cubesListComprehension)"
   ]
  },
  {
   "cell_type": "markdown",
   "id": "ba582877",
   "metadata": {},
   "source": [
    "8\\. **List comprehension**"
   ]
  },
  {
   "cell_type": "code",
   "execution_count": 23,
   "id": "b35424c5",
   "metadata": {},
   "outputs": [
    {
     "name": "stdout",
     "output_type": "stream",
     "text": [
      "[(0, 0), (0, 1), (0, 2), (0, 3), (1, 0), (1, 1), (1, 2), (1, 3), (2, 0), (2, 1), (2, 2), (2, 3)]\n"
     ]
    }
   ],
   "source": [
    "print([(i,j) for i in range(3) for j in range(4)])"
   ]
  },
  {
   "cell_type": "markdown",
   "id": "e38abc37",
   "metadata": {},
   "source": [
    "9\\. **Nested list comprehension**"
   ]
  },
  {
   "cell_type": "code",
   "execution_count": 40,
   "id": "e397c38d",
   "metadata": {},
   "outputs": [
    {
     "name": "stdout",
     "output_type": "stream",
     "text": [
      "[(3, 4, 5), (6, 8, 10), (5, 12, 13), (9, 12, 15), (8, 15, 17), (12, 16, 20), (15, 20, 25), (7, 24, 25), (10, 24, 26), (20, 21, 29), (18, 24, 30), (16, 30, 34), (21, 28, 35), (12, 35, 37), (15, 36, 39), (24, 32, 40), (9, 40, 41), (27, 36, 45), (30, 40, 50), (14, 48, 50), (24, 45, 51), (20, 48, 52), (28, 45, 53), (33, 44, 55), (40, 42, 58), (36, 48, 60), (11, 60, 61), (39, 52, 65), (33, 56, 65), (25, 60, 65), (16, 63, 65), (32, 60, 68), (42, 56, 70), (48, 55, 73), (24, 70, 74), (45, 60, 75), (21, 72, 75), (30, 72, 78), (48, 64, 80), (18, 80, 82), (51, 68, 85), (40, 75, 85), (36, 77, 85), (13, 84, 85), (60, 63, 87), (39, 80, 89), (54, 72, 90), (35, 84, 91), (57, 76, 95), (65, 72, 97)]\n"
     ]
    }
   ],
   "source": [
    "def Pythagorean_triple():\n",
    "    my_tuple = ()\n",
    "    #a**2 + b**2 = c**2\n",
    "    #a = m**2 - n**2\n",
    "    #b = 2*m*n\n",
    "    #c = m**2 + n**2\n",
    "    \n",
    "    c, m = 0, 2\n",
    "    #while c is under 100\n",
    "    while c < 100 :\n",
    "        for n in range(1, m):\n",
    "            a = m*m-n*n\n",
    "            b = 2*m*n\n",
    "            c = m*m + n*n\n",
    "        c+=1\n",
    "        if c > 100:\n",
    "            break\n",
    "        my_tuple = my_tuple + (a, b,c, ';')\n",
    "        m+=1\n",
    "    return my_tuple\n",
    "\n",
    "def Pythagorean_triple_nested_list():\n",
    "    #with nested_list\n",
    "    my_tuple = [(a,b,c) for c in range(100) for b in range(c) for a in range(b) if c**2 == a**2 + b**2]\n",
    "    return my_tuple\n",
    "\n",
    "my_tuple = Pythagorean_triple_nested_list()     \n",
    "print(my_tuple)"
   ]
  },
  {
   "cell_type": "markdown",
   "id": "f9f2eb91",
   "metadata": {},
   "source": [
    "10\\. **Normalization of a N-dimensional vector**"
   ]
  },
  {
   "cell_type": "code",
   "execution_count": 34,
   "id": "d17adbbe",
   "metadata": {
    "scrolled": true
   },
   "outputs": [
    {
     "name": "stdout",
     "output_type": "stream",
     "text": [
      "1.2099402472543712\n",
      "(0.26705985801615234, 0.19634097489727248, 0.2026250145587211, 0.6593025336525651, 0.643733272720284)\n",
      "1.0\n"
     ]
    }
   ],
   "source": [
    "import random \n",
    "import math\n",
    "\n",
    "def normalization(n):\n",
    "    #N random numbers in a tuple\n",
    "    raw = tuple(random.random() for i in range(n))\n",
    "    #Normalization\n",
    "    norm = math.sqrt(sum(i**2 for i in raw))\n",
    "    raw_norm = tuple([i/norm for i in raw])\n",
    "    print(norm)\n",
    "    print(raw_norm)\n",
    "    sum_norm = sum(i**2 for i in raw_norm)\n",
    "    print(sum_norm)\n",
    "\n",
    "norm = normalization(5)"
   ]
  },
  {
   "cell_type": "markdown",
   "id": "28f4a3b8",
   "metadata": {},
   "source": [
    "11\\. **The Fibonacci sequence**"
   ]
  },
  {
   "cell_type": "code",
   "execution_count": 35,
   "id": "09f1c00e",
   "metadata": {},
   "outputs": [
    {
     "name": "stdout",
     "output_type": "stream",
     "text": [
      "[0, 1, 1, 2, 3, 5, 8, 13, 21, 34, 55, 89, 144, 233, 377, 610, 987, 1597, 2584, 4181]\n"
     ]
    }
   ],
   "source": [
    "def fibonacci():\n",
    "    #Fn = F(n-1) + F(n-2)\n",
    "    #seed values : f0 = 0, f1 = 1\n",
    "    f = [0,1]\n",
    "    \n",
    "    #We have the first two values => we start at the third value\n",
    "    for i in range(2, 20):\n",
    "        #we add to the list the result :\n",
    "        f.append(f[i-1] + f[i-2])\n",
    "    return(f)\n",
    "\n",
    "fib = fibonacci()\n",
    "print(fib)"
   ]
  },
  {
   "cell_type": "code",
   "execution_count": null,
   "id": "2798ace2",
   "metadata": {},
   "outputs": [],
   "source": []
  }
 ],
 "metadata": {
  "kernelspec": {
   "display_name": "Python 3 (ipykernel)",
   "language": "python",
   "name": "python3"
  },
  "language_info": {
   "codemirror_mode": {
    "name": "ipython",
    "version": 3
   },
   "file_extension": ".py",
   "mimetype": "text/x-python",
   "name": "python",
   "nbconvert_exporter": "python",
   "pygments_lexer": "ipython3",
   "version": "3.8.10"
  }
 },
 "nbformat": 4,
 "nbformat_minor": 5
}
