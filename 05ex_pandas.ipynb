{
 "cells": [
  {
   "cell_type": "markdown",
   "metadata": {},
   "source": [
    "1\\. **Pandas DataFrame**\n",
    "\n",
    "This exercise consists in analyzing a dataset containg timing information from a series of Time-to-Digital-Converters (TDC) implemented in a pair of FPGAs. Each measurement (i.e. each row of the input file) consists of a flag that specifies the type of message ('HEAD', which in this case is always 1), two addresses of the TDC providing the signal ('FPGA' and 'TDC_CHANNEL'), and the timing information ('ORBIT_CNT', 'BX_COUNTER', and 'TDC_MEAS'). Each TDC count corresponds to 25/30 ns, whereas a unit of BX_COUNTER corresponds to 25 ns, and the ORBIT_CNT is increased every `x` BX_COUNTER. This allows to store the time in a similar way to hours, minutes and seconds."
   ]
  },
  {
   "cell_type": "code",
   "execution_count": 1,
   "metadata": {},
   "outputs": [],
   "source": [
    "# If haven't downloaded it yet, please get the data file with wget\n",
    "#!wget https://www.dropbox.com/s/xvjzaxzz3ysphme/data_000637.txt -P ./data/"
   ]
  },
  {
   "cell_type": "markdown",
   "metadata": {},
   "source": [
    "1\\. Create a Pandas DataFrame reading N rows of the `data/data_000637.txt` dataset. Choose N to be smaller than or equal to the maximum number of rows and larger that 10k (check the documentation)."
   ]
  },
  {
   "cell_type": "code",
   "execution_count": 2,
   "metadata": {},
   "outputs": [
    {
     "data": {
      "text/html": [
       "<div>\n",
       "<style scoped>\n",
       "    .dataframe tbody tr th:only-of-type {\n",
       "        vertical-align: middle;\n",
       "    }\n",
       "\n",
       "    .dataframe tbody tr th {\n",
       "        vertical-align: top;\n",
       "    }\n",
       "\n",
       "    .dataframe thead th {\n",
       "        text-align: right;\n",
       "    }\n",
       "</style>\n",
       "<table border=\"1\" class=\"dataframe\">\n",
       "  <thead>\n",
       "    <tr style=\"text-align: right;\">\n",
       "      <th></th>\n",
       "      <th>HEAD</th>\n",
       "      <th>FPGA</th>\n",
       "      <th>TDC_CHANNEL</th>\n",
       "      <th>ORBIT_CNT</th>\n",
       "      <th>BX_COUNTER</th>\n",
       "      <th>TDC_MEAS</th>\n",
       "    </tr>\n",
       "  </thead>\n",
       "  <tbody>\n",
       "    <tr>\n",
       "      <th>0</th>\n",
       "      <td>1</td>\n",
       "      <td>0</td>\n",
       "      <td>123</td>\n",
       "      <td>3869200167</td>\n",
       "      <td>2374</td>\n",
       "      <td>26</td>\n",
       "    </tr>\n",
       "    <tr>\n",
       "      <th>1</th>\n",
       "      <td>1</td>\n",
       "      <td>0</td>\n",
       "      <td>124</td>\n",
       "      <td>3869200167</td>\n",
       "      <td>2374</td>\n",
       "      <td>27</td>\n",
       "    </tr>\n",
       "    <tr>\n",
       "      <th>2</th>\n",
       "      <td>1</td>\n",
       "      <td>0</td>\n",
       "      <td>63</td>\n",
       "      <td>3869200167</td>\n",
       "      <td>2553</td>\n",
       "      <td>28</td>\n",
       "    </tr>\n",
       "    <tr>\n",
       "      <th>3</th>\n",
       "      <td>1</td>\n",
       "      <td>0</td>\n",
       "      <td>64</td>\n",
       "      <td>3869200167</td>\n",
       "      <td>2558</td>\n",
       "      <td>19</td>\n",
       "    </tr>\n",
       "    <tr>\n",
       "      <th>4</th>\n",
       "      <td>1</td>\n",
       "      <td>0</td>\n",
       "      <td>64</td>\n",
       "      <td>3869200167</td>\n",
       "      <td>2760</td>\n",
       "      <td>25</td>\n",
       "    </tr>\n",
       "    <tr>\n",
       "      <th>...</th>\n",
       "      <td>...</td>\n",
       "      <td>...</td>\n",
       "      <td>...</td>\n",
       "      <td>...</td>\n",
       "      <td>...</td>\n",
       "      <td>...</td>\n",
       "    </tr>\n",
       "    <tr>\n",
       "      <th>255904</th>\n",
       "      <td>1</td>\n",
       "      <td>1</td>\n",
       "      <td>2</td>\n",
       "      <td>3869202713</td>\n",
       "      <td>1476</td>\n",
       "      <td>9</td>\n",
       "    </tr>\n",
       "    <tr>\n",
       "      <th>255905</th>\n",
       "      <td>1</td>\n",
       "      <td>1</td>\n",
       "      <td>4</td>\n",
       "      <td>3869202713</td>\n",
       "      <td>1566</td>\n",
       "      <td>14</td>\n",
       "    </tr>\n",
       "    <tr>\n",
       "      <th>255906</th>\n",
       "      <td>1</td>\n",
       "      <td>0</td>\n",
       "      <td>26</td>\n",
       "      <td>3869202713</td>\n",
       "      <td>1565</td>\n",
       "      <td>22</td>\n",
       "    </tr>\n",
       "    <tr>\n",
       "      <th>255907</th>\n",
       "      <td>1</td>\n",
       "      <td>1</td>\n",
       "      <td>1</td>\n",
       "      <td>3869202713</td>\n",
       "      <td>1565</td>\n",
       "      <td>2</td>\n",
       "    </tr>\n",
       "    <tr>\n",
       "      <th>255908</th>\n",
       "      <td>1</td>\n",
       "      <td>1</td>\n",
       "      <td>36</td>\n",
       "      <td>3869202713</td>\n",
       "      <td>1578</td>\n",
       "      <td>11</td>\n",
       "    </tr>\n",
       "  </tbody>\n",
       "</table>\n",
       "<p>255909 rows × 6 columns</p>\n",
       "</div>"
      ],
      "text/plain": [
       "        HEAD  FPGA  TDC_CHANNEL   ORBIT_CNT  BX_COUNTER  TDC_MEAS\n",
       "0          1     0          123  3869200167        2374        26\n",
       "1          1     0          124  3869200167        2374        27\n",
       "2          1     0           63  3869200167        2553        28\n",
       "3          1     0           64  3869200167        2558        19\n",
       "4          1     0           64  3869200167        2760        25\n",
       "...      ...   ...          ...         ...         ...       ...\n",
       "255904     1     1            2  3869202713        1476         9\n",
       "255905     1     1            4  3869202713        1566        14\n",
       "255906     1     0           26  3869202713        1565        22\n",
       "255907     1     1            1  3869202713        1565         2\n",
       "255908     1     1           36  3869202713        1578        11\n",
       "\n",
       "[255909 rows x 6 columns]"
      ]
     },
     "execution_count": 2,
     "metadata": {},
     "output_type": "execute_result"
    }
   ],
   "source": [
    "import pandas as pd # standard naming convention\n",
    "import numpy as np\n",
    "from numpy import random\n",
    "#file name\n",
    "file_name = \"./data/data_000637.txt\"\n",
    "#to know the maximum number of rows\n",
    "# rows : 1310720\n",
    "#columns : 6\n",
    "row_count, column_count = pd.read_csv(file_name).shape\n",
    "#we choose N to be smaller or equal to row_count and larger than 10k\n",
    "x = random.randint(10000, row_count+1) #row_count + 1 because can be equal to row_count\n",
    "df = pd.read_csv(file_name,nrows=x)\n",
    "df"
   ]
  },
  {
   "cell_type": "markdown",
   "metadata": {},
   "source": [
    "2\\. Estimate the number of BX in a ORBIT (the value `x`).\n",
    "\n",
    "*Hint*: check when the BX counter reaches the maximum value before being reset to 0."
   ]
  },
  {
   "cell_type": "code",
   "execution_count": 3,
   "metadata": {},
   "outputs": [
    {
     "name": "stdout",
     "output_type": "stream",
     "text": [
      "Maximum value of bx before being reset to 0 : 3563\n"
     ]
    }
   ],
   "source": [
    "#we check the maximum value of 'BX_COUNTER' for every orbit before begin reset to 0\n",
    "dfmax = df.groupby(['ORBIT_CNT'])['BX_COUNTER'].max()\n",
    "print('Maximum value of bx before being reset to 0 :', dfmax.max()) #we print the maximum value"
   ]
  },
  {
   "cell_type": "markdown",
   "metadata": {},
   "source": [
    "3. Create a new column with the absolute time in ns (as a combination of the other three columns with timing information) since the beginning of the data acquisition, and convert the new column to a Time Series."
   ]
  },
  {
   "cell_type": "code",
   "execution_count": 4,
   "metadata": {},
   "outputs": [
    {
     "data": {
      "text/html": [
       "<div>\n",
       "<style scoped>\n",
       "    .dataframe tbody tr th:only-of-type {\n",
       "        vertical-align: middle;\n",
       "    }\n",
       "\n",
       "    .dataframe tbody tr th {\n",
       "        vertical-align: top;\n",
       "    }\n",
       "\n",
       "    .dataframe thead th {\n",
       "        text-align: right;\n",
       "    }\n",
       "</style>\n",
       "<table border=\"1\" class=\"dataframe\">\n",
       "  <thead>\n",
       "    <tr style=\"text-align: right;\">\n",
       "      <th></th>\n",
       "      <th>HEAD</th>\n",
       "      <th>FPGA</th>\n",
       "      <th>TDC_CHANNEL</th>\n",
       "      <th>ORBIT_CNT</th>\n",
       "      <th>BX_COUNTER</th>\n",
       "      <th>TDC_MEAS</th>\n",
       "      <th>TIME</th>\n",
       "    </tr>\n",
       "  </thead>\n",
       "  <tbody>\n",
       "    <tr>\n",
       "      <th>0</th>\n",
       "      <td>1</td>\n",
       "      <td>0</td>\n",
       "      <td>123</td>\n",
       "      <td>3869200167</td>\n",
       "      <td>2374</td>\n",
       "      <td>26</td>\n",
       "      <td>0 days 00:00:00</td>\n",
       "    </tr>\n",
       "    <tr>\n",
       "      <th>1</th>\n",
       "      <td>1</td>\n",
       "      <td>0</td>\n",
       "      <td>124</td>\n",
       "      <td>3869200167</td>\n",
       "      <td>2374</td>\n",
       "      <td>27</td>\n",
       "      <td>0 days 00:00:00</td>\n",
       "    </tr>\n",
       "    <tr>\n",
       "      <th>2</th>\n",
       "      <td>1</td>\n",
       "      <td>0</td>\n",
       "      <td>63</td>\n",
       "      <td>3869200167</td>\n",
       "      <td>2553</td>\n",
       "      <td>28</td>\n",
       "      <td>0 days 00:00:00.000004477</td>\n",
       "    </tr>\n",
       "    <tr>\n",
       "      <th>3</th>\n",
       "      <td>1</td>\n",
       "      <td>0</td>\n",
       "      <td>64</td>\n",
       "      <td>3869200167</td>\n",
       "      <td>2558</td>\n",
       "      <td>19</td>\n",
       "      <td>0 days 00:00:00.000009071</td>\n",
       "    </tr>\n",
       "    <tr>\n",
       "      <th>4</th>\n",
       "      <td>1</td>\n",
       "      <td>0</td>\n",
       "      <td>64</td>\n",
       "      <td>3869200167</td>\n",
       "      <td>2760</td>\n",
       "      <td>25</td>\n",
       "      <td>0 days 00:00:00.000018720</td>\n",
       "    </tr>\n",
       "    <tr>\n",
       "      <th>...</th>\n",
       "      <td>...</td>\n",
       "      <td>...</td>\n",
       "      <td>...</td>\n",
       "      <td>...</td>\n",
       "      <td>...</td>\n",
       "      <td>...</td>\n",
       "      <td>...</td>\n",
       "    </tr>\n",
       "    <tr>\n",
       "      <th>255904</th>\n",
       "      <td>1</td>\n",
       "      <td>1</td>\n",
       "      <td>2</td>\n",
       "      <td>3869202713</td>\n",
       "      <td>1476</td>\n",
       "      <td>9</td>\n",
       "      <td>0 days 08:03:31.892786377</td>\n",
       "    </tr>\n",
       "    <tr>\n",
       "      <th>255905</th>\n",
       "      <td>1</td>\n",
       "      <td>1</td>\n",
       "      <td>4</td>\n",
       "      <td>3869202713</td>\n",
       "      <td>1566</td>\n",
       "      <td>14</td>\n",
       "      <td>0 days 08:03:32.119551117</td>\n",
       "    </tr>\n",
       "    <tr>\n",
       "      <th>255906</th>\n",
       "      <td>1</td>\n",
       "      <td>0</td>\n",
       "      <td>26</td>\n",
       "      <td>3869202713</td>\n",
       "      <td>1565</td>\n",
       "      <td>22</td>\n",
       "      <td>0 days 08:03:32.346315839</td>\n",
       "    </tr>\n",
       "    <tr>\n",
       "      <th>255907</th>\n",
       "      <td>1</td>\n",
       "      <td>1</td>\n",
       "      <td>1</td>\n",
       "      <td>3869202713</td>\n",
       "      <td>1565</td>\n",
       "      <td>2</td>\n",
       "      <td>0 days 08:03:32.573080544</td>\n",
       "    </tr>\n",
       "    <tr>\n",
       "      <th>255908</th>\n",
       "      <td>1</td>\n",
       "      <td>1</td>\n",
       "      <td>36</td>\n",
       "      <td>3869202713</td>\n",
       "      <td>1578</td>\n",
       "      <td>11</td>\n",
       "      <td>0 days 08:03:32.799845581</td>\n",
       "    </tr>\n",
       "  </tbody>\n",
       "</table>\n",
       "<p>255909 rows × 7 columns</p>\n",
       "</div>"
      ],
      "text/plain": [
       "        HEAD  FPGA  TDC_CHANNEL   ORBIT_CNT  BX_COUNTER  TDC_MEAS  \\\n",
       "0          1     0          123  3869200167        2374        26   \n",
       "1          1     0          124  3869200167        2374        27   \n",
       "2          1     0           63  3869200167        2553        28   \n",
       "3          1     0           64  3869200167        2558        19   \n",
       "4          1     0           64  3869200167        2760        25   \n",
       "...      ...   ...          ...         ...         ...       ...   \n",
       "255904     1     1            2  3869202713        1476         9   \n",
       "255905     1     1            4  3869202713        1566        14   \n",
       "255906     1     0           26  3869202713        1565        22   \n",
       "255907     1     1            1  3869202713        1565         2   \n",
       "255908     1     1           36  3869202713        1578        11   \n",
       "\n",
       "                            TIME  \n",
       "0                0 days 00:00:00  \n",
       "1                0 days 00:00:00  \n",
       "2      0 days 00:00:00.000004477  \n",
       "3      0 days 00:00:00.000009071  \n",
       "4      0 days 00:00:00.000018720  \n",
       "...                          ...  \n",
       "255904 0 days 08:03:31.892786377  \n",
       "255905 0 days 08:03:32.119551117  \n",
       "255906 0 days 08:03:32.346315839  \n",
       "255907 0 days 08:03:32.573080544  \n",
       "255908 0 days 08:03:32.799845581  \n",
       "\n",
       "[255909 rows x 7 columns]"
      ]
     },
     "execution_count": 4,
     "metadata": {},
     "output_type": "execute_result"
    }
   ],
   "source": [
    "time_counter = df['BX_COUNTER'] * 25 #we multiply by 25ns every bx_counter\n",
    "time_counter = time_counter - time_counter[0] #we beging the data acquisition with the first value\n",
    "time_meas = df['TDC_MEAS'] * 25/30 #we multiply by 25/20ns every tdc_meas\n",
    "time_meas = time_meas - time_meas[0]\n",
    "time_orbit = df['ORBIT_CNT'] * dfmax.max() * 25 #we multiply by x * 25ns every orbit_cnt \n",
    "time_orbit = time_orbit - time_orbit[0]\n",
    "df['TIME'] = time_counter.cumsum() + time_meas.cumsum() + time_orbit.cumsum() #new column TIME\n",
    "df['TIME'] = pd.to_timedelta(df['TIME'], unit=\"ns\")#we convert the new column to a time series (since the begging of the data acquisition)\n",
    "df"
   ]
  },
  {
   "cell_type": "markdown",
   "metadata": {},
   "source": [
    "4\\. Find out the duration of the data taking in hours, minutes and seconds, by using the features of the Time Series. Perform this check reading the whole dataset."
   ]
  },
  {
   "cell_type": "code",
   "execution_count": 5,
   "metadata": {},
   "outputs": [
    {
     "name": "stdout",
     "output_type": "stream",
     "text": [
      "0 days 08:03:32.799845581\n"
     ]
    }
   ],
   "source": [
    "#find the duration of the data\n",
    "print(df['TIME'][len(df)-1] - df['TIME'][0])"
   ]
  },
  {
   "cell_type": "markdown",
   "metadata": {},
   "source": [
    "5\\. Use the `.groupby()` method to find out the noisy channels, i.e. the TDC channels with most counts (print to screen the top 3 and the corresponding counts)"
   ]
  },
  {
   "cell_type": "code",
   "execution_count": 6,
   "metadata": {},
   "outputs": [
    {
     "data": {
      "text/plain": [
       "TDC_CHANNEL\n",
       "139    21278\n",
       "64     12749\n",
       "63     12506\n",
       "Name: TDC_CHANNEL, dtype: int64"
      ]
     },
     "execution_count": 6,
     "metadata": {},
     "output_type": "execute_result"
    }
   ],
   "source": [
    "#groupby(['TDC_CHANNEL'])['TDC_CHANNEL'].count() -> for every TDC_CHANNEL we count it\n",
    "#we use .iloc[:3] to only print to screen the top 3 with the corresponding counts\n",
    "df.groupby(['TDC_CHANNEL'])['TDC_CHANNEL'].count().sort_values(ascending=False).iloc[:3]\n"
   ]
  },
  {
   "cell_type": "markdown",
   "metadata": {},
   "source": [
    "6\\. Count the number of non-empty orbits (i.e. the number of orbits with at least one hit)."
   ]
  },
  {
   "cell_type": "code",
   "execution_count": 7,
   "metadata": {},
   "outputs": [
    {
     "data": {
      "text/plain": [
       "2544"
      ]
     },
     "execution_count": 7,
     "metadata": {},
     "output_type": "execute_result"
    }
   ],
   "source": [
    "#drop_duplicates(keep='first') : we only keep the first instance of every orbits\n",
    "#we count the orbits with at least one hit so the ones available in the data\n",
    "df['ORBIT_CNT'].drop_duplicates(keep=\"first\").count()\n",
    "\n",
    "#or df.groupby['ORBIT_CNT'].count()"
   ]
  },
  {
   "cell_type": "markdown",
   "metadata": {},
   "source": [
    "7\\. Count the number of unique orbits with at least one measurement from TDC_CHANNEL=139."
   ]
  },
  {
   "cell_type": "code",
   "execution_count": 8,
   "metadata": {},
   "outputs": [
    {
     "data": {
      "text/plain": [
       "2540"
      ]
     },
     "execution_count": 8,
     "metadata": {},
     "output_type": "execute_result"
    }
   ],
   "source": [
    "df7 = df.loc[(df['TDC_CHANNEL'] == 139)]\n",
    "#we select the datadrame where the TDC_CHANNEL = 139\n",
    "#we do the same as the question 6 : we drop duplicate and we count the number of orbits with at least one measurement so the ones available in the data\n",
    "df7['ORBIT_CNT'].drop_duplicates(keep=\"first\").count() "
   ]
  },
  {
   "cell_type": "markdown",
   "metadata": {},
   "source": [
    "8\\. Create two Series (one for each FPGA) that have the TDC channel as index, and the number of counts for the corresponding TDC channel as values."
   ]
  },
  {
   "cell_type": "code",
   "execution_count": 9,
   "metadata": {},
   "outputs": [
    {
     "name": "stdout",
     "output_type": "stream",
     "text": [
      "\n",
      "FPGA0 : \n",
      " TDC_CHANNEL\n",
      "1        244\n",
      "2        305\n",
      "3        317\n",
      "4        431\n",
      "5        300\n",
      "       ...  \n",
      "129        1\n",
      "130        7\n",
      "137        5\n",
      "138        5\n",
      "139    14948\n",
      "Name: TDC_CHANNEL, Length: 123, dtype: int64\n",
      "\n",
      "FPGA0 type : \n",
      " <class 'pandas.core.series.Series'>\n",
      "\n",
      "FPGA0 index : \n",
      " Int64Index([  1,   2,   3,   4,   5,   6,   7,   8,   9,  10,\n",
      "            ...\n",
      "            120, 121, 122, 123, 124, 129, 130, 137, 138, 139],\n",
      "           dtype='int64', name='TDC_CHANNEL', length=123)\n",
      "\n",
      "FPGA1 : \n",
      " TDC_CHANNEL\n",
      "1      5495\n",
      "2      6311\n",
      "3      4226\n",
      "4      5054\n",
      "5      2822\n",
      "       ... \n",
      "129       6\n",
      "130       8\n",
      "137       6\n",
      "138       6\n",
      "139    6330\n",
      "Name: TDC_CHANNEL, Length: 132, dtype: int64\n",
      "\n",
      "FPGA1 type : \n",
      " <class 'pandas.core.series.Series'>\n",
      "\n",
      "FPGA1 index : \n",
      " Int64Index([  1,   2,   3,   4,   5,   6,   7,   8,   9,  10,\n",
      "            ...\n",
      "            123, 125, 126, 127, 128, 129, 130, 137, 138, 139],\n",
      "           dtype='int64', name='TDC_CHANNEL', length=132)\n"
     ]
    }
   ],
   "source": [
    "#Series for each FPGA\n",
    "fpga0 = df[df['FPGA'] == 0].groupby(['TDC_CHANNEL'])['TDC_CHANNEL'].count()\n",
    "fpga1 = df[df['FPGA'] == 1].groupby(['TDC_CHANNEL'])['TDC_CHANNEL'].count()\n",
    "\n",
    "print(\"\\nFPGA0 : \\n\",fpga0)\n",
    "print(\"\\nFPGA0 type : \\n\",type(fpga0))\n",
    "print(\"\\nFPGA0 index : \\n\",fpga0.index)\n",
    "\n",
    "print(\"\\nFPGA1 : \\n\",fpga1)\n",
    "print(\"\\nFPGA1 type : \\n\",type(fpga1))\n",
    "print(\"\\nFPGA1 index : \\n\",fpga1.index)"
   ]
  },
  {
   "cell_type": "markdown",
   "metadata": {},
   "source": [
    "9\\. **Optional:** Create two histograms (one for each FPGA) that show the number of counts for each TDC channel."
   ]
  },
  {
   "cell_type": "code",
   "execution_count": 10,
   "metadata": {},
   "outputs": [
    {
     "data": {
      "text/plain": [
       "Text(0.5, 0, 'TDC_CHANNEL')"
      ]
     },
     "execution_count": 10,
     "metadata": {},
     "output_type": "execute_result"
    },
    {
     "data": {
      "image/png": "[encoded data removed]",
      "text/plain": [
       "<Figure size 640x480 with 1 Axes>"
      ]
     },
     "metadata": {},
     "output_type": "display_data"
    }
   ],
   "source": [
    "fpga0 = df[df['FPGA'] == 0]['TDC_CHANNEL']\n",
    "hist0 = fpga0.plot(kind='hist')\n",
    "hist0.set_xlabel('TDC_CHANNEL')"
   ]
  },
  {
   "cell_type": "code",
   "execution_count": 11,
   "metadata": {},
   "outputs": [
    {
     "data": {
      "text/plain": [
       "Text(0.5, 0, 'TDC_CHANNEL')"
      ]
     },
     "execution_count": 11,
     "metadata": {},
     "output_type": "execute_result"
    },
    {
     "data": {
      "image/png": "[encoded data removed]",
      "text/plain": [
       "<Figure size 640x480 with 1 Axes>"
      ]
     },
     "metadata": {},
     "output_type": "display_data"
    }
   ],
   "source": [
    "fpga1 = df[df['FPGA'] == 1]['TDC_CHANNEL']\n",
    "hist1 = fpga1.plot(kind='hist')\n",
    "hist1.set_xlabel('TDC_CHANNEL')"
   ]
  },
  {
   "cell_type": "code",
   "execution_count": null,
   "metadata": {},
   "outputs": [],
   "source": []
  },
  {
   "cell_type": "code",
   "execution_count": null,
   "metadata": {},
   "outputs": [],
   "source": []
  }
 ],
 "metadata": {
  "kernelspec": {
   "display_name": "Python 3 (ipykernel)",
   "language": "python",
   "name": "python3"
  },
  "language_info": {
   "codemirror_mode": {
    "name": "ipython",
    "version": 3
   },
   "file_extension": ".py",
   "mimetype": "text/x-python",
   "name": "python",
   "nbconvert_exporter": "python",
   "pygments_lexer": "ipython3",
   "version": "3.8.10"
  }
 },
 "nbformat": 4,
 "nbformat_minor": 2
}
