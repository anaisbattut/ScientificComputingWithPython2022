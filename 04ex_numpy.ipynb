{
 "cells": [
  {
   "cell_type": "markdown",
   "metadata": {},
   "source": [
    "1\\. **Reductions**\n",
    "\n",
    "Find the total mean, and the mean for each row and column of the following matrix:\n",
    "\n",
    "```python\n",
    "m = np.arange(12).reshape((3,4))\n",
    "```"
   ]
  },
  {
   "cell_type": "code",
   "execution_count": 1,
   "metadata": {},
   "outputs": [
    {
     "name": "stdout",
     "output_type": "stream",
     "text": [
      "[[ 0  1  2  3]\n",
      " [ 4  5  6  7]\n",
      " [ 8  9 10 11]]\n",
      "The total mean :  5.5\n",
      "The mean of the colums : [4. 5. 6. 7.]\n",
      "The mean of the rows : [1.5 5.5 9.5]\n"
     ]
    }
   ],
   "source": [
    "import numpy as np\n",
    "m = np.arange(12).reshape((3,4))\n",
    "print(m)\n",
    "print('The total mean : ', np.mean(m))\n",
    "#Depending on the axis, we calculate a different mean\n",
    "print('The mean of the colums :',  np.mean(m, axis = 0))\n",
    "print('The mean of the rows :', np.mean(m, axis = 1))"
   ]
  },
  {
   "cell_type": "markdown",
   "metadata": {},
   "source": [
    "2\\. **Outer product**\n",
    "\n",
    "Find the outer product of the following vectors:\n",
    "\n",
    "```python\n",
    "u = np.array([1, 3, 5, 7])\n",
    "v = np.array([2, 4, 6, 8])\n",
    "```\n",
    "\n",
    "Use different methods to do this:\n",
    "\n",
    "   1. Using the function `outer` in numpy\n",
    "   2. Using a nested `for` loop or a list comprehension\n",
    "   3. Using numpy broadcasting operations"
   ]
  },
  {
   "cell_type": "code",
   "execution_count": 2,
   "metadata": {},
   "outputs": [
    {
     "name": "stdout",
     "output_type": "stream",
     "text": [
      "Using outer :\n",
      "  [[ 2  4  6  8]\n",
      " [ 6 12 18 24]\n",
      " [10 20 30 40]\n",
      " [14 28 42 56]]\n",
      "\n",
      "Using a for loo :\n",
      "[[ 2  4  6  8]\n",
      " [ 6 12 18 24]\n",
      " [10 20 30 40]\n",
      " [14 28 42 56]]\n",
      "\n",
      "Using numpy broadcasting operations : \n",
      "[[ 2  4  6  8]\n",
      " [ 6 12 18 24]\n",
      " [10 20 30 40]\n",
      " [14 28 42 56]]\n"
     ]
    }
   ],
   "source": [
    "u = np.array([1, 3, 5, 7])\n",
    "v = np.array([2, 4, 6, 8])\n",
    "print(\"Using outer :\\n \",  np.outer(u,v))\n",
    "\n",
    "print(\"\\nUsing a for loo :\")\n",
    "res = []\n",
    "for i in u: \n",
    "    res.append(i*v)\n",
    "print(np.array(res))\n",
    "        \n",
    "print(\"\\nUsing numpy broadcasting operations : \",)\n",
    "#we modify the u matrix from a line to a colum to use broadcasting operations\n",
    "print(u[:,np.newaxis]*v)"
   ]
  },
  {
   "cell_type": "markdown",
   "metadata": {},
   "source": [
    "3\\. **Matrix masking**\n",
    "\n",
    "Create a 10 by 6 matrix of float random numbers, distributed between 0 and 3 according to a flat distribution.\n",
    "\n",
    "After creating the matrix, set all entries $< 0.3$ to zero using a mask."
   ]
  },
  {
   "cell_type": "code",
   "execution_count": 3,
   "metadata": {},
   "outputs": [
    {
     "name": "stdout",
     "output_type": "stream",
     "text": [
      "[[1.29931078 2.68578013 1.78679414 1.56828325 2.324032   2.01762828]\n",
      " [1.36159544 1.33709315 0.3623089  2.87363011 2.39323795 2.16464884]\n",
      " [1.82634929 2.65477515 0.62004893 2.29138293 0.46730573 1.97276648]\n",
      " [0.10064036 1.20090122 1.42073799 1.27714372 0.59938203 1.60934764]\n",
      " [0.2529698  0.32411232 2.13097785 0.17802561 1.79879893 0.52997031]\n",
      " [1.86319553 2.38402638 1.53728375 1.05379089 0.2162014  1.69864274]\n",
      " [2.44459443 0.04328986 1.24313611 1.05716794 2.83740535 0.65545036]\n",
      " [1.18910847 2.9351195  2.14828573 2.46066339 0.59075745 1.92701549]\n",
      " [2.88814178 1.85110492 2.24683094 2.04612353 0.97262746 0.97063679]\n",
      " [2.04283494 2.02823911 0.68354339 1.24501702 2.30129203 1.48078751]]\n",
      "The filtered matrix : \n",
      " [0.10064036 0.2529698  0.17802561 0.2162014  0.04328986]\n"
     ]
    }
   ],
   "source": [
    "import numpy.random as npr\n",
    "#We use uniform function to have a flat distribution\n",
    "a =  npr.uniform(size=(10,6), low = 0, high = 3)\n",
    "print(a)\n",
    "\n",
    "#we create mask for all numbers < 0.3\n",
    "mask = (a < 0.3)\n",
    "filtered_a = a[mask]\n",
    "print(\"The filtered matrix : \\n\", filtered_a)\n"
   ]
  },
  {
   "cell_type": "markdown",
   "metadata": {},
   "source": [
    "4\\. **Trigonometric functions**\n",
    "\n",
    "Use `np.linspace` to create an array of 100 numbers between $0$ and $2\\pi$ (inclusive).\n",
    "\n",
    "  * Extract every 10th element using the slice notation\n",
    "  * Reverse the array using the slice notation\n",
    "  * Extract elements where the absolute difference between the `sin` and `cos` functions evaluated for that element is $< 0.1$\n",
    "  * **Optional**: make a plot showing the sin and cos functions and indicate where they are close"
   ]
  },
  {
   "cell_type": "code",
   "execution_count": 5,
   "metadata": {},
   "outputs": [
    {
     "name": "stdout",
     "output_type": "stream",
     "text": [
      "[0.         0.01586663 0.03173326 0.04759989 0.06346652 0.07933315\n",
      " 0.09519978 0.11106641 0.12693304 0.14279967 0.1586663  0.17453293\n",
      " 0.19039955 0.20626618 0.22213281 0.23799944 0.25386607 0.2697327\n",
      " 0.28559933 0.30146596 0.31733259 0.33319922 0.34906585 0.36493248\n",
      " 0.38079911 0.39666574 0.41253237 0.428399   0.44426563 0.46013226\n",
      " 0.47599889 0.49186552 0.50773215 0.52359878 0.53946541 0.55533203\n",
      " 0.57119866 0.58706529 0.60293192 0.61879855 0.63466518 0.65053181\n",
      " 0.66639844 0.68226507 0.6981317  0.71399833 0.72986496 0.74573159\n",
      " 0.76159822 0.77746485 0.79333148 0.80919811 0.82506474 0.84093137\n",
      " 0.856798   0.87266463 0.88853126 0.90439789 0.92026451 0.93613114\n",
      " 0.95199777 0.9678644  0.98373103 0.99959766 1.01546429 1.03133092\n",
      " 1.04719755 1.06306418 1.07893081 1.09479744 1.11066407 1.1265307\n",
      " 1.14239733 1.15826396 1.17413059 1.18999722 1.20586385 1.22173048\n",
      " 1.23759711 1.25346374 1.26933037 1.28519699 1.30106362 1.31693025\n",
      " 1.33279688 1.34866351 1.36453014 1.38039677 1.3962634  1.41213003\n",
      " 1.42799666 1.44386329 1.45972992 1.47559655 1.49146318 1.50732981\n",
      " 1.52319644 1.53906307 1.5549297  1.57079633]\n",
      "\n",
      "Reverse :  [1.57079633 1.5549297  1.53906307 1.52319644 1.50732981 1.49146318\n",
      " 1.47559655 1.45972992 1.44386329 1.42799666 1.41213003 1.3962634\n",
      " 1.38039677 1.36453014 1.34866351 1.33279688 1.31693025 1.30106362\n",
      " 1.28519699 1.26933037 1.25346374 1.23759711 1.22173048 1.20586385\n",
      " 1.18999722 1.17413059 1.15826396 1.14239733 1.1265307  1.11066407\n",
      " 1.09479744 1.07893081 1.06306418 1.04719755 1.03133092 1.01546429\n",
      " 0.99959766 0.98373103 0.9678644  0.95199777 0.93613114 0.92026451\n",
      " 0.90439789 0.88853126 0.87266463 0.856798   0.84093137 0.82506474\n",
      " 0.80919811 0.79333148 0.77746485 0.76159822 0.74573159 0.72986496\n",
      " 0.71399833 0.6981317  0.68226507 0.66639844 0.65053181 0.63466518\n",
      " 0.61879855 0.60293192 0.58706529 0.57119866 0.55533203 0.53946541\n",
      " 0.52359878 0.50773215 0.49186552 0.47599889 0.46013226 0.44426563\n",
      " 0.428399   0.41253237 0.39666574 0.38079911 0.36493248 0.34906585\n",
      " 0.33319922 0.31733259 0.30146596 0.28559933 0.2697327  0.25386607\n",
      " 0.23799944 0.22213281 0.20626618 0.19039955 0.17453293 0.1586663\n",
      " 0.14279967 0.12693304 0.11106641 0.09519978 0.07933315 0.06346652\n",
      " 0.04759989 0.03173326 0.01586663 0.        ]\n"
     ]
    }
   ],
   "source": [
    "import math\n",
    "\n",
    "a = np.linspace(0,math.pi/2, 100)\n",
    "print(a)\n",
    "print(\"\\nReverse : \", a[::-1])"
   ]
  },
  {
   "cell_type": "markdown",
   "metadata": {},
   "source": [
    "5\\. **Matrices**\n",
    "\n",
    "Create a matrix that shows the 10 by 10 multiplication table.\n",
    "\n",
    " * Find the trace of the matrix\n",
    " * Extract the anti-diagonal matrix (this should be ```array([10, 18, 24, 28, 30, 30, 28, 24, 18, 10])```)\n",
    " * Extract the diagonal offset by 1 upwards (this should be ```array([ 2,  6, 12, 20, 30, 42, 56, 72, 90])```)"
   ]
  },
  {
   "cell_type": "code",
   "execution_count": null,
   "metadata": {},
   "outputs": [],
   "source": []
  },
  {
   "cell_type": "markdown",
   "metadata": {},
   "source": [
    "6\\. **Broadcasting**\n",
    "\n",
    "Use broadcasting to create a grid of distances.\n",
    "\n",
    "Route 66 crosses the following cities in the US: Chicago, Springfield, Saint-Louis, Tulsa, Oklahoma City, Amarillo, Santa Fe, Albuquerque, Flagstaff, Los Angeles.\n",
    "\n",
    "The corresponding positions in miles are: 0, 198, 303, 736, 871, 1175, 1475, 1544, 1913, 2448\n",
    "\n",
    "  * Build a 2D grid of distances among each city along Route 66\n",
    "  * Convert the distances in km"
   ]
  },
  {
   "cell_type": "code",
   "execution_count": null,
   "metadata": {},
   "outputs": [],
   "source": []
  },
  {
   "cell_type": "markdown",
   "metadata": {},
   "source": [
    "7\\. **Prime numbers sieve**\n",
    "\n",
    "Compute the prime numbers in the 0-N (start with N=99) range with a sieve (mask).\n",
    "\n",
    "  * Constract a shape (N,) boolean array, which is the mask\n",
    "  * Identify the multiples of each number starting from 2 and set accordingly the corresponding mask element\n",
    "  * Apply the mask to obtain an array of ordered prime numbers\n",
    "  * Check the performances (with `timeit`); how does it scale with N?\n",
    "  * Implement the optimization suggested in the [sieve of Eratosthenes](https://en.wikipedia.org/wiki/Sieve_of_Eratosthenes)"
   ]
  },
  {
   "cell_type": "code",
   "execution_count": null,
   "metadata": {},
   "outputs": [],
   "source": []
  },
  {
   "cell_type": "markdown",
   "metadata": {},
   "source": [
    "8\\. **Diffusion using random walk**\n",
    "\n",
    "Consider a simple random walk process: at each step in time, a walker jumps right or left (+1 or -1) with equal probability. The goal is to find the typical distance from the origin of many random walkers after a given amount of time.\n",
    "\n",
    "*Hint*: create a 2D array where each row represents a walker, and each column represents a time step.\n",
    "\n",
    "  * Take 1000 walkers and let them walk for 200 steps\n",
    "  * Use `randint` to create a 2D array of size $walkers \\times steps$ with values -1 or 1\n",
    "  * Calculate the walking distances for each walker (e.g. by summing the elements in each row)\n",
    "  * Take the square of the previously-obtained array (element-wise)\n",
    "  * Compute the mean of the squared distances at each step (i.e. the mean along the columns)\n",
    "  * **Optional**: plot the average distances ($\\sqrt(distance^2)$) as a function of time (step)"
   ]
  },
  {
   "cell_type": "code",
   "execution_count": null,
   "metadata": {},
   "outputs": [],
   "source": []
  }
 ],
 "metadata": {
  "kernelspec": {
   "display_name": "Python 3 (ipykernel)",
   "language": "python",
   "name": "python3"
  },
  "language_info": {
   "codemirror_mode": {
    "name": "ipython",
    "version": 3
   },
   "file_extension": ".py",
   "mimetype": "text/x-python",
   "name": "python",
   "nbconvert_exporter": "python",
   "pygments_lexer": "ipython3",
   "version": "3.8.10"
  }
 },
 "nbformat": 4,
 "nbformat_minor": 2
}
